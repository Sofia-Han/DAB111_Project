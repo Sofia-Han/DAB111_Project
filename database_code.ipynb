{
 "cells": [
  {
   "cell_type": "code",
   "execution_count": 1,
   "id": "bfe199e1-71f8-4346-afca-d0c8ba65b95e",
   "metadata": {
    "tags": []
   },
   "outputs": [],
   "source": [
    "import sqlite3\n",
    "import pandas as pd\n",
    "import csv "
   ]
  },
  {
   "cell_type": "code",
   "execution_count": 2,
   "id": "d0a1baf4-ec2f-4f69-9fbb-6410eea3481c",
   "metadata": {
    "tags": []
   },
   "outputs": [],
   "source": [
    "con = sqlite3.connect('Udemy.db')\n",
    "cursor = con.cursor()"
   ]
  },
  {
   "cell_type": "code",
   "execution_count": 17,
   "id": "e2a4498d-5680-41ee-9341-3fd485609070",
   "metadata": {
    "tags": []
   },
   "outputs": [
    {
     "data": {
      "text/html": [
       "<div>\n",
       "<style scoped>\n",
       "    .dataframe tbody tr th:only-of-type {\n",
       "        vertical-align: middle;\n",
       "    }\n",
       "\n",
       "    .dataframe tbody tr th {\n",
       "        vertical-align: top;\n",
       "    }\n",
       "\n",
       "    .dataframe thead th {\n",
       "        text-align: right;\n",
       "    }\n",
       "</style>\n",
       "<table border=\"1\" class=\"dataframe\">\n",
       "  <thead>\n",
       "    <tr style=\"text-align: right;\">\n",
       "      <th></th>\n",
       "      <th>id</th>\n",
       "      <th>title</th>\n",
       "      <th>isPaid</th>\n",
       "      <th>price</th>\n",
       "      <th>numSubscribers</th>\n",
       "      <th>numReviews</th>\n",
       "      <th>numPublishedLectures</th>\n",
       "      <th>instructionalLevel</th>\n",
       "    </tr>\n",
       "  </thead>\n",
       "  <tbody>\n",
       "    <tr>\n",
       "      <th>0</th>\n",
       "      <td>1</td>\n",
       "      <td>Learn Web Designing &amp; HTML5/CSS3 Essentials in...</td>\n",
       "      <td>True</td>\n",
       "      <td>75</td>\n",
       "      <td>43285</td>\n",
       "      <td>525</td>\n",
       "      <td>24</td>\n",
       "      <td>All Levels</td>\n",
       "    </tr>\n",
       "    <tr>\n",
       "      <th>1</th>\n",
       "      <td>2</td>\n",
       "      <td>Learning Dynamic Website Design - PHP MySQL an...</td>\n",
       "      <td>True</td>\n",
       "      <td>50</td>\n",
       "      <td>47886</td>\n",
       "      <td>285</td>\n",
       "      <td>125</td>\n",
       "      <td>All Levels</td>\n",
       "    </tr>\n",
       "    <tr>\n",
       "      <th>2</th>\n",
       "      <td>3</td>\n",
       "      <td>ChatBots: Messenger ChatBot with API.AI and No...</td>\n",
       "      <td>True</td>\n",
       "      <td>50</td>\n",
       "      <td>2577</td>\n",
       "      <td>529</td>\n",
       "      <td>64</td>\n",
       "      <td>All Levels</td>\n",
       "    </tr>\n",
       "    <tr>\n",
       "      <th>3</th>\n",
       "      <td>4</td>\n",
       "      <td>Projects in HTML5</td>\n",
       "      <td>True</td>\n",
       "      <td>60</td>\n",
       "      <td>8777</td>\n",
       "      <td>206</td>\n",
       "      <td>75</td>\n",
       "      <td>Intermediate Level</td>\n",
       "    </tr>\n",
       "    <tr>\n",
       "      <th>4</th>\n",
       "      <td>5</td>\n",
       "      <td>Programming Foundations: HTML5 + CSS3 for Entr...</td>\n",
       "      <td>True</td>\n",
       "      <td>20</td>\n",
       "      <td>23764</td>\n",
       "      <td>490</td>\n",
       "      <td>58</td>\n",
       "      <td>Beginner Level</td>\n",
       "    </tr>\n",
       "  </tbody>\n",
       "</table>\n",
       "</div>"
      ],
      "text/plain": [
       "   id                                              title  isPaid  price  \\\n",
       "0   1  Learn Web Designing & HTML5/CSS3 Essentials in...    True     75   \n",
       "1   2  Learning Dynamic Website Design - PHP MySQL an...    True     50   \n",
       "2   3  ChatBots: Messenger ChatBot with API.AI and No...    True     50   \n",
       "3   4                                  Projects in HTML5    True     60   \n",
       "4   5  Programming Foundations: HTML5 + CSS3 for Entr...    True     20   \n",
       "\n",
       "   numSubscribers  numReviews  numPublishedLectures  instructionalLevel  \n",
       "0           43285         525                    24          All Levels  \n",
       "1           47886         285                   125          All Levels  \n",
       "2            2577         529                    64          All Levels  \n",
       "3            8777         206                    75  Intermediate Level  \n",
       "4           23764         490                    58      Beginner Level  "
      ]
     },
     "execution_count": 17,
     "metadata": {},
     "output_type": "execute_result"
    }
   ],
   "source": [
    "df = pd.read_csv(\"WebDevelopment.csv\")\n",
    "df.head()"
   ]
  },
  {
   "cell_type": "code",
   "execution_count": 49,
   "id": "d4ffe2aa-b35d-4173-aeca-9c44d2447a5a",
   "metadata": {
    "tags": []
   },
   "outputs": [
    {
     "data": {
      "text/plain": [
       "<sqlite3.Cursor at 0x21614a65340>"
      ]
     },
     "execution_count": 49,
     "metadata": {},
     "output_type": "execute_result"
    }
   ],
   "source": [
    "create_table = \"\"\"CREATE TABLE courses (\n",
    "                        id INTEGER PRIMARY KEY,\n",
    "                        title TEXT,\n",
    "                        isPaid BOOLEAN,\n",
    "                        price FLOAT,\n",
    "                        numSubscribers INTEGER,\n",
    "                        numReviews INTEGER,\n",
    "                        numPublishedLectures INTEGER,\n",
    "                        instructionalLevel TEXT\n",
    "                );\n",
    "\"\"\"\n",
    "\n",
    "cursor.execute(create_table)\n"
   ]
  },
  {
   "cell_type": "code",
   "execution_count": 50,
   "id": "776ac3f2-85c3-489d-acfb-3754e293d66a",
   "metadata": {
    "tags": []
   },
   "outputs": [],
   "source": [
    "with open(\"WebDevelopment.csv\") as f:\n",
    "    data = csv.reader(f)\n",
    "    next(data)  # Skip header row\n",
    "    for row in data:\n",
    "        cursor.execute(\"INSERT INTO courses (ID, title, isPaid,price,numSubscribers, numReviews, numPublishedLectures, instructionalLevel) VALUES (?, ?, ?, ?, ?, ?, ?,?)\",\n",
    "                       (row[0], row[1], row[2], row[3], row[4], row[5], row[6],row[7]))"
   ]
  },
  {
   "cell_type": "code",
   "execution_count": 51,
   "id": "a3d7e798-7fa4-47ea-a50b-3f9bb16b745a",
   "metadata": {
    "tags": []
   },
   "outputs": [
    {
     "data": {
      "text/plain": [
       "[(1,\n",
       "  'Learn Web Designing & HTML5/CSS3 Essentials in 4-Hours',\n",
       "  'TRUE',\n",
       "  75.0,\n",
       "  43285,\n",
       "  525,\n",
       "  24,\n",
       "  'All Levels'),\n",
       " (2,\n",
       "  'Learning Dynamic Website Design - PHP MySQL and JavaScript',\n",
       "  'TRUE',\n",
       "  50.0,\n",
       "  47886,\n",
       "  285,\n",
       "  125,\n",
       "  'All Levels')]"
      ]
     },
     "execution_count": 51,
     "metadata": {},
     "output_type": "execute_result"
    }
   ],
   "source": [
    "results = cursor.execute(\"SELECT * FROM courses\").fetchall()\n",
    "results[0:2]"
   ]
  },
  {
   "cell_type": "code",
   "execution_count": 52,
   "id": "b4f06724-c0cd-40c3-96a4-272fdb15f8dd",
   "metadata": {},
   "outputs": [],
   "source": [
    "con.commit() \n",
    "con.close()"
   ]
  }
 ],
 "metadata": {
  "kernelspec": {
   "display_name": "Python 3 (ipykernel)",
   "language": "python",
   "name": "python3"
  },
  "language_info": {
   "codemirror_mode": {
    "name": "ipython",
    "version": 3
   },
   "file_extension": ".py",
   "mimetype": "text/x-python",
   "name": "python",
   "nbconvert_exporter": "python",
   "pygments_lexer": "ipython3",
   "version": "3.11.5"
  }
 },
 "nbformat": 4,
 "nbformat_minor": 5
}
